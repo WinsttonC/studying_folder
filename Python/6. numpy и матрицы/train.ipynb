{
 "cells": [
  {
   "cell_type": "code",
   "execution_count": 11,
   "source": [
    "# Создать вектор или массив из 0, заданной размерности \r\n",
    "import numpy as np\r\n",
    "#матрица\r\n",
    "x = np.full([3, 3], 9)\r\n",
    "print(x)\r\n",
    "\r\n",
    "#вектор\r\n",
    "y = np.full(10, 5)\r\n",
    "print(y)\r\n",
    "\r\n",
    "#Создать единичную матрицу из n числа элементов\r\n",
    "\r\n",
    "nul = np.eye(3)\r\n",
    "print(nul)\r\n",
    "\r\n",
    "\r\n",
    "#Создать ед. матрицу со значениями на диагонали\r\n",
    "list_1 = [1, 3, 4, 5, 6,]\r\n",
    "zn = np.diag(list_1, k = 0)\r\n",
    "print(zn)\r\n",
    "\r\n",
    "#Создание массива со случайными значениями\r\n",
    "import random\r\n",
    "\r\n",
    "what = np.random.random(4)\r\n",
    "print(what)\r\n",
    "\r\n",
    "#Массив со равным промежутком между элементами диапазона\r\n",
    "ret = np.linspace(1, 5, 20)\r\n",
    "print(ret)\r\n",
    "\r\n",
    "#\r\n",
    "\r\n",
    "\r\n",
    "#\r\n",
    "\r\n",
    "\r\n",
    "#"
   ],
   "outputs": [
    {
     "output_type": "stream",
     "name": "stdout",
     "text": [
      "[[9 9 9]\n",
      " [9 9 9]\n",
      " [9 9 9]]\n",
      "[5 5 5 5 5 5 5 5 5 5]\n",
      "[[1. 0. 0.]\n",
      " [0. 1. 0.]\n",
      " [0. 0. 1.]]\n",
      "[[1 0 0 0 0]\n",
      " [0 3 0 0 0]\n",
      " [0 0 4 0 0]\n",
      " [0 0 0 5 0]\n",
      " [0 0 0 0 6]]\n",
      "[0.05195446 0.32810194 0.52997545 0.24824766]\n",
      "[1.         1.21052632 1.42105263 1.63157895 1.84210526 2.05263158\n",
      " 2.26315789 2.47368421 2.68421053 2.89473684 3.10526316 3.31578947\n",
      " 3.52631579 3.73684211 3.94736842 4.15789474 4.36842105 4.57894737\n",
      " 4.78947368 5.        ]\n"
     ]
    }
   ],
   "metadata": {}
  },
  {
   "cell_type": "code",
   "execution_count": 17,
   "source": [
    "# Сложение матриц и векторов\r\n",
    "\r\n",
    "mat1 = np.full([len(list_1),len(list_1)], 0)\r\n",
    "mat2 = np.diag(list_1, k = 0)\r\n",
    "\r\n",
    "var1 = np.concatenate((mat1, mat2))\r\n",
    "\r\n",
    "var3 = np.dot(mat1, mat2)\r\n",
    "\r\n",
    "\r\n",
    "print(var1, var3)\r\n",
    "print(mat2)\r\n"
   ],
   "outputs": [
    {
     "output_type": "stream",
     "name": "stdout",
     "text": [
      "[[0 0 0 0 0]\n",
      " [0 0 0 0 0]\n",
      " [0 0 0 0 0]\n",
      " [0 0 0 0 0]\n",
      " [0 0 0 0 0]\n",
      " [1 0 0 0 0]\n",
      " [0 3 0 0 0]\n",
      " [0 0 4 0 0]\n",
      " [0 0 0 5 0]\n",
      " [0 0 0 0 6]] [[0 0 0 0 0]\n",
      " [0 0 0 0 0]\n",
      " [0 0 0 0 0]\n",
      " [0 0 0 0 0]\n",
      " [0 0 0 0 0]]\n",
      "[[1 0 0 0 0]\n",
      " [0 3 0 0 0]\n",
      " [0 0 4 0 0]\n",
      " [0 0 0 5 0]\n",
      " [0 0 0 0 6]]\n"
     ]
    }
   ],
   "metadata": {}
  },
  {
   "cell_type": "code",
   "execution_count": 43,
   "source": [
    "# Перемешать элементы массива\r\n",
    "import random\r\n",
    "tre = np.arange(1, 24, 2)\r\n",
    "random.shuffle(tre)\r\n",
    "print(tre)\r\n",
    "ert = tre.reshape(3, 4)\r\n",
    "#np.array(ert).T\r\n",
    "print(ert)\r\n",
    "#Определить количество строк и столбцов \r\n",
    "\r\n",
    "print(var1.shape)"
   ],
   "outputs": [
    {
     "output_type": "stream",
     "name": "stdout",
     "text": [
      "[ 5 11 13 17  9 19  3  7 21 23 15  1]\n",
      "[[ 5 11 13 17]\n",
      " [ 9 19  3  7]\n",
      " [21 23 15  1]]\n",
      "(10, 5)\n"
     ]
    }
   ],
   "metadata": {}
  }
 ],
 "metadata": {
  "orig_nbformat": 4,
  "language_info": {
   "name": "python",
   "version": "3.8.8",
   "mimetype": "text/x-python",
   "codemirror_mode": {
    "name": "ipython",
    "version": 3
   },
   "pygments_lexer": "ipython3",
   "nbconvert_exporter": "python",
   "file_extension": ".py"
  },
  "kernelspec": {
   "name": "python3",
   "display_name": "Python 3.8.8 64-bit ('base': conda)"
  },
  "interpreter": {
   "hash": "b3ba2566441a7c06988d0923437866b63cedc61552a5af99d1f4fb67d367b25f"
  }
 },
 "nbformat": 4,
 "nbformat_minor": 2
}