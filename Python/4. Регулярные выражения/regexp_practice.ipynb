{
 "cells": [
  {
   "cell_type": "markdown",
   "source": [
    "# Коды для поиска из презентации\r\n",
    "\r\n",
    "**Группы символов**\r\n",
    "- \\d - любая цифра\r\n",
    "- \\D - все, кроме цифры\r\n",
    "\r\n",
    "- \\w - любая буква, цифра, символ подчеркивания\r\n",
    "- \\W - все, кроме букв, цифр и символов подчеркивания\r\n",
    "\r\n",
    "- \\s - любой пробельный символ, включая пробел\r\n",
    "- \\S - все, кроме пробельных символов\r\n",
    "\r\n",
    "- ( . ) - любой символ\r\n",
    "- ( ^ ) - либо начало строки, либо (все, кроме с [])\r\n",
    "- ( $ ) - конец строки\r\n",
    "- ( \\ ) - экранирование\r\n",
    "- ( | ) - или\r\n",
    "- ( [ ] )\r\n",
    "\r\n",
    "**Квантификаторы**\r\n",
    "- ( * ) - любое количество вхождений (от 0 до беск.) \\n\r\n",
    "- ( + ) - количетсво вхождений от 1 до беск.\r\n",
    "- ( ? ) - 0 или 1 вхождение символа(группы)\r\n",
    "- ( {n} ) - n количество вхождений\r\n",
    "- ( {n,m} ) - количество вхождений от n до m\r\n",
    "\r\n",
    "**Функции модуля re**\r\n",
    "*Поиск*\r\n",
    "- re. match(ищет в начале строки)\r\n",
    "- re.search(ищет первое совпадение)\r\n",
    "- re.findall(ищет во всем тексте, возвращает лист из всех результатов)\r\n",
    "\r\n",
    "*Разделитель*\r\n",
    "- re.split(patt, str, [maxslpit=количество разделений])\r\n",
    "\r\n",
    "*Замена*\r\n",
    "- re.sub(pattern(что), repl(на что), string(где))\r\n",
    "\r\n",
    "**Non capturing**\r\n",
    "Поиск группы без включения ее в результат\r\n",
    "\r\n",
    "-  ( ?: ) - выделить группу, не включать в результат\r\n",
    "-  ( ?= ) - ищет шаблон до группы\r\n",
    "-  ( ?! ) - ищет шаблон, который не находится до группы\r\n",
    "-  ( ?<= ) - ищет шаблон после группы\r\n",
    "- ( ?<! ) - ищет шаблон, который не находится после группы\r\n",
    "\r\n",
    "\\Сайт для проверки регулярных выражений : https://regex101.com/\r\n",
    "(?P<name>)"
   ],
   "metadata": {}
  },
  {
   "cell_type": "code",
   "execution_count": 2,
   "source": [
    "import re"
   ],
   "outputs": [],
   "metadata": {}
  },
  {
   "cell_type": "code",
   "execution_count": null,
   "source": [
    "# найдем идентификаторы пользователей в тексте\r\n",
    "msg = 'В розыгрыше победили: id1234563, id4653, id46!'"
   ],
   "outputs": [],
   "metadata": {}
  },
  {
   "cell_type": "code",
   "execution_count": null,
   "source": [
    "re.findall(r'id\\d+', msg)"
   ],
   "outputs": [],
   "metadata": {}
  },
  {
   "cell_type": "code",
   "execution_count": 4,
   "source": [
    "# ПРАКТИКА. Найдем хэштеги в твите\r\n",
    "tweet = 'когда #эпидемия, то обязательно #оставайсядома'"
   ],
   "outputs": [],
   "metadata": {}
  },
  {
   "cell_type": "code",
   "execution_count": 13,
   "source": [
    "re.findall(r'#\\w*', tweet)"
   ],
   "outputs": [
    {
     "output_type": "execute_result",
     "data": {
      "text/plain": [
       "['#эпидемия', '#оставайсядома']"
      ]
     },
     "metadata": {},
     "execution_count": 13
    }
   ],
   "metadata": {}
  },
  {
   "cell_type": "code",
   "execution_count": 15,
   "source": [
    "# посмотрим внимательнее, как работают quantifiers\r\n",
    "text = \"\"\"Что такое регулярные выражения и как их использовать? \r\n",
    "Говоря простым языком, регулярное выражение — это последовательность символов, используемая для поиска и замены текста в строке или файле. Как уже было упомянуто,\\\r\n",
    "их поддерживает множество языков общего назначения: Python, Perl, R.\r\n",
    "Так что изучение регулярных выражений рано или поздно пригодится.\"\"\""
   ],
   "outputs": [],
   "metadata": {}
  },
  {
   "cell_type": "code",
   "execution_count": 16,
   "source": [
    "re.findall(r'\\w+', text)"
   ],
   "outputs": [
    {
     "output_type": "execute_result",
     "data": {
      "text/plain": [
       "['Что',\n",
       " 'такое',\n",
       " 'регулярные',\n",
       " 'выражения',\n",
       " 'и',\n",
       " 'как',\n",
       " 'их',\n",
       " 'использовать',\n",
       " 'Говоря',\n",
       " 'простым',\n",
       " 'языком',\n",
       " 'регулярное',\n",
       " 'выражение',\n",
       " 'это',\n",
       " 'последовательность',\n",
       " 'символов',\n",
       " 'используемая',\n",
       " 'для',\n",
       " 'поиска',\n",
       " 'и',\n",
       " 'замены',\n",
       " 'текста',\n",
       " 'в',\n",
       " 'строке',\n",
       " 'или',\n",
       " 'файле',\n",
       " 'Как',\n",
       " 'уже',\n",
       " 'было',\n",
       " 'упомянуто',\n",
       " 'их',\n",
       " 'поддерживает',\n",
       " 'множество',\n",
       " 'языков',\n",
       " 'общего',\n",
       " 'назначения',\n",
       " 'Python',\n",
       " 'Perl',\n",
       " 'R',\n",
       " 'Так',\n",
       " 'что',\n",
       " 'изучение',\n",
       " 'регулярных',\n",
       " 'выражений',\n",
       " 'рано',\n",
       " 'или',\n",
       " 'поздно',\n",
       " 'пригодится']"
      ]
     },
     "metadata": {},
     "execution_count": 16
    }
   ],
   "metadata": {
    "scrolled": true
   }
  },
  {
   "cell_type": "code",
   "execution_count": 17,
   "source": [
    "re.findall(r'\\w*', text)"
   ],
   "outputs": [
    {
     "output_type": "execute_result",
     "data": {
      "text/plain": [
       "['Что',\n",
       " '',\n",
       " 'такое',\n",
       " '',\n",
       " 'регулярные',\n",
       " '',\n",
       " 'выражения',\n",
       " '',\n",
       " 'и',\n",
       " '',\n",
       " 'как',\n",
       " '',\n",
       " 'их',\n",
       " '',\n",
       " 'использовать',\n",
       " '',\n",
       " '',\n",
       " '',\n",
       " 'Говоря',\n",
       " '',\n",
       " 'простым',\n",
       " '',\n",
       " 'языком',\n",
       " '',\n",
       " '',\n",
       " 'регулярное',\n",
       " '',\n",
       " 'выражение',\n",
       " '',\n",
       " '',\n",
       " '',\n",
       " 'это',\n",
       " '',\n",
       " 'последовательность',\n",
       " '',\n",
       " 'символов',\n",
       " '',\n",
       " '',\n",
       " 'используемая',\n",
       " '',\n",
       " 'для',\n",
       " '',\n",
       " 'поиска',\n",
       " '',\n",
       " 'и',\n",
       " '',\n",
       " 'замены',\n",
       " '',\n",
       " 'текста',\n",
       " '',\n",
       " 'в',\n",
       " '',\n",
       " 'строке',\n",
       " '',\n",
       " 'или',\n",
       " '',\n",
       " 'файле',\n",
       " '',\n",
       " '',\n",
       " 'Как',\n",
       " '',\n",
       " 'уже',\n",
       " '',\n",
       " 'было',\n",
       " '',\n",
       " 'упомянуто',\n",
       " '',\n",
       " 'их',\n",
       " '',\n",
       " 'поддерживает',\n",
       " '',\n",
       " 'множество',\n",
       " '',\n",
       " 'языков',\n",
       " '',\n",
       " 'общего',\n",
       " '',\n",
       " 'назначения',\n",
       " '',\n",
       " '',\n",
       " 'Python',\n",
       " '',\n",
       " '',\n",
       " 'Perl',\n",
       " '',\n",
       " '',\n",
       " 'R',\n",
       " '',\n",
       " '',\n",
       " 'Так',\n",
       " '',\n",
       " 'что',\n",
       " '',\n",
       " 'изучение',\n",
       " '',\n",
       " 'регулярных',\n",
       " '',\n",
       " 'выражений',\n",
       " '',\n",
       " 'рано',\n",
       " '',\n",
       " 'или',\n",
       " '',\n",
       " 'поздно',\n",
       " '',\n",
       " 'пригодится',\n",
       " '',\n",
       " '']"
      ]
     },
     "metadata": {},
     "execution_count": 17
    }
   ],
   "metadata": {}
  },
  {
   "cell_type": "code",
   "execution_count": null,
   "source": [
    "re.findall(r'\\w?', text)"
   ],
   "outputs": [],
   "metadata": {}
  },
  {
   "cell_type": "code",
   "execution_count": 20,
   "source": [
    "# необходимо из строки с условными датами вытащить их\r\n",
    "registration = 'Date of start: 4-12. Date of registration: 20-11'"
   ],
   "outputs": [],
   "metadata": {}
  },
  {
   "cell_type": "code",
   "execution_count": 18,
   "source": [
    "re.findall(r'\\d{1,2}-\\d{1,2}', registration)"
   ],
   "outputs": [
    {
     "output_type": "error",
     "ename": "NameError",
     "evalue": "name 'registration' is not defined",
     "traceback": [
      "\u001b[1;31m---------------------------------------------------------------------------\u001b[0m",
      "\u001b[1;31mNameError\u001b[0m                                 Traceback (most recent call last)",
      "\u001b[1;32m<ipython-input-18-d268bb158f98>\u001b[0m in \u001b[0;36m<module>\u001b[1;34m\u001b[0m\n\u001b[1;32m----> 1\u001b[1;33m \u001b[0mre\u001b[0m\u001b[1;33m.\u001b[0m\u001b[0mfindall\u001b[0m\u001b[1;33m(\u001b[0m\u001b[1;34mr'\\d{1,2}-\\d{1,2}'\u001b[0m\u001b[1;33m,\u001b[0m \u001b[0mregistration\u001b[0m\u001b[1;33m)\u001b[0m\u001b[1;33m\u001b[0m\u001b[1;33m\u001b[0m\u001b[0m\n\u001b[0m",
      "\u001b[1;31mNameError\u001b[0m: name 'registration' is not defined"
     ]
    }
   ],
   "metadata": {}
  },
  {
   "cell_type": "code",
   "execution_count": 27,
   "source": [
    "# вытащим номера телефонов и текста\r\n",
    "phone_numbers = 'Мария: 8-943-342-23-32 Александр: 8-323-432-23-67'\r\n",
    "re.findall(r'\\d-\\d{3}-\\d{3}-\\d{2}-\\d{2}', phone_numbers)"
   ],
   "outputs": [
    {
     "output_type": "execute_result",
     "data": {
      "text/plain": [
       "['8-943-342-23-32', '8-323-432-23-67']"
      ]
     },
     "metadata": {},
     "execution_count": 27
    }
   ],
   "metadata": {}
  },
  {
   "cell_type": "code",
   "execution_count": null,
   "source": [
    "phone_pattern = r'\\d-\\d{3}-\\d{3}-\\d{2}-\\d{2}'\r\n",
    "re.findall(phone_pattern, phone_numbers)"
   ],
   "outputs": [],
   "metadata": {}
  },
  {
   "cell_type": "code",
   "execution_count": null,
   "source": [
    "# ПРАКТИКА. Свалидируем дату\r\n",
    "date = '1st september 2019 17:25'"
   ],
   "outputs": [],
   "metadata": {
    "scrolled": true
   }
  },
  {
   "cell_type": "code",
   "execution_count": null,
   "source": [],
   "outputs": [],
   "metadata": {}
  },
  {
   "cell_type": "code",
   "execution_count": 51,
   "source": [
    "# ПРАКТИКА. Посчитаем количество лайков и репостов по всем сообщениям\r\n",
    "messages = ['Опять дождь! Лайков: 5, Репостов: 4', 'Крутой был концерт! Лайков: 28, Репостов: 22']"
   ],
   "outputs": [],
   "metadata": {}
  },
  {
   "cell_type": "code",
   "execution_count": 80,
   "source": [
    "\r\n",
    "#all_ = int(re.findall(r'Лайков: \\d+', messages)[2]) + int(re.findall(r'Репостов: \\d+', messages)[2])\r\n",
    "#print(all_)\r\n",
    "likes = []\r\n",
    "reposts = []\r\n",
    "for elem in messages:\r\n",
    "    likes += re.findall(r'Лайков: (\\d+)', elem)\r\n",
    "    \r\n",
    "    reposts += re.findall(r'Репостов: \\d+', elem)\r\n",
    "\r\n",
    "likes[1]"
   ],
   "outputs": [
    {
     "output_type": "execute_result",
     "data": {
      "text/plain": [
       "'28'"
      ]
     },
     "metadata": {},
     "execution_count": 80
    }
   ],
   "metadata": {}
  },
  {
   "cell_type": "code",
   "execution_count": null,
   "source": [],
   "outputs": [],
   "metadata": {}
  },
  {
   "cell_type": "code",
   "execution_count": 83,
   "source": [
    "# посчитаем количество восклицательных предложений в твите\r\n",
    "tweet_2 = 'Какое замечательное место! Обязательно вернусть сюда снова. Всем советую!!!'\r\n",
    "\r\n",
    "re.findall(r'\\w+!', tweet_2)\r\n",
    "len(re.findall(r'\\w+!', tweet_2))"
   ],
   "outputs": [
    {
     "output_type": "execute_result",
     "data": {
      "text/plain": [
       "2"
      ]
     },
     "metadata": {},
     "execution_count": 83
    }
   ],
   "metadata": {}
  },
  {
   "cell_type": "code",
   "execution_count": 84,
   "source": [
    "re.split(r'!+', tweet_2)\r\n",
    "# re.split(r'!+ ', tweet_2)\r\n",
    "# len(re.split(r'!+\\s', tweet_2))"
   ],
   "outputs": [
    {
     "output_type": "execute_result",
     "data": {
      "text/plain": [
       "['Какое замечательное место',\n",
       " ' Обязательно вернусть сюда снова. Всем советую',\n",
       " '']"
      ]
     },
     "metadata": {},
     "execution_count": 84
    }
   ],
   "metadata": {}
  },
  {
   "cell_type": "code",
   "execution_count": null,
   "source": [],
   "outputs": [],
   "metadata": {}
  },
  {
   "cell_type": "code",
   "execution_count": null,
   "source": [
    "# search ищет по всей строке, а match только в начале\r\n",
    "text = \"\"\"Что такое регулярные выражения и как их использовать? \r\n",
    "Говоря простым языком, регулярное выражение — это последовательность символов, используемая для поиска и замены текста в строке или файле. Как уже было упомянуто,\\\r\n",
    "их поддерживает множество языков общего назначения: Python, Perl, R.\r\n",
    "Так что изучение регулярных выражений рано или поздно пригодится.\"\"\"\r\n",
    "\r\n",
    "result = re.match(r'Python', text)\r\n",
    "result\r\n",
    "# print('Нашел' if result else 'Не нашел')"
   ],
   "outputs": [],
   "metadata": {}
  },
  {
   "cell_type": "code",
   "execution_count": null,
   "source": [
    "re.match(r'Что', text)"
   ],
   "outputs": [],
   "metadata": {}
  },
  {
   "cell_type": "code",
   "execution_count": null,
   "source": [
    "res = re.search(r'Python', text)\r\n",
    "# res.start(), res.end()\r\n",
    "# res.group()"
   ],
   "outputs": [],
   "metadata": {}
  },
  {
   "cell_type": "code",
   "execution_count": null,
   "source": [],
   "outputs": [],
   "metadata": {}
  },
  {
   "cell_type": "code",
   "execution_count": null,
   "source": [
    "# определим находится ли домен в зоне com\r\n",
    "domain = 'www.site.com'"
   ],
   "outputs": [],
   "metadata": {}
  },
  {
   "cell_type": "code",
   "execution_count": null,
   "source": [
    "re.findall('www.+com', domain)"
   ],
   "outputs": [],
   "metadata": {}
  },
  {
   "cell_type": "code",
   "execution_count": null,
   "source": [
    "# поищем только в начале и конце строки\r\n",
    "history_comment = '20 век был более опасным, чем 19 век'"
   ],
   "outputs": [],
   "metadata": {}
  },
  {
   "cell_type": "code",
   "execution_count": null,
   "source": [
    "re.findall(r'\\d{1,2}\\s\\век', history_comment)"
   ],
   "outputs": [],
   "metadata": {}
  },
  {
   "cell_type": "code",
   "execution_count": null,
   "source": [
    "re.findall(r'^\\d{1,2}\\s\\век', history_comment)"
   ],
   "outputs": [],
   "metadata": {}
  },
  {
   "cell_type": "code",
   "execution_count": null,
   "source": [
    "re.findall(r'\\d{1,2}\\s\\век$', history_comment)"
   ],
   "outputs": [],
   "metadata": {}
  },
  {
   "cell_type": "code",
   "execution_count": null,
   "source": [
    "# экранирование. Разделим текст по точкам\r\n",
    "text = \"\"\"Что такое регулярные выражения и как их использовать? \r\n",
    "Говоря простым языком, регулярное выражение — это последовательность символов, используемая для поиска и замены текста в строке или файле. Как уже было упомянуто,\r\n",
    "их поддерживает множество языков общего назначения: Python, Perl, R.\r\n",
    "Так что изучение регулярных выражений рано или поздно пригодится.\"\"\""
   ],
   "outputs": [],
   "metadata": {}
  },
  {
   "cell_type": "code",
   "execution_count": null,
   "source": [
    "re.split(r'\\.\\s', text)"
   ],
   "outputs": [],
   "metadata": {}
  },
  {
   "cell_type": "code",
   "execution_count": null,
   "source": [
    "# ИЛИ\r\n",
    "market_search = 'Что лучше: ноутбук или компьютер?'\r\n",
    "re.findall('ноутбук|компьютер', market_search)"
   ],
   "outputs": [],
   "metadata": {}
  },
  {
   "cell_type": "code",
   "execution_count": null,
   "source": [
    "# [] - найдем слово во всем склонениях\r\n",
    "text = \"\"\"Что такое регулярные выражения и как их использовать? \r\n",
    "Говоря простым языком, регулярное выражение — это последовательность символов, используемая для поиска и замены текста в строке или файле. Как уже было упомянуто,\r\n",
    "их поддерживает множество языков общего назначения: Python, Perl, R.\r\n",
    "Так что изучение регулярных выражений рано или поздно пригодится.\"\"\"\r\n",
    "pattern = 'регулярн[а-я]+ выражен[а-я]+'\r\n",
    "re.findall(pattern, text)"
   ],
   "outputs": [],
   "metadata": {}
  },
  {
   "cell_type": "code",
   "execution_count": null,
   "source": [
    "websites = 'www.101.com  www.google.com'"
   ],
   "outputs": [],
   "metadata": {}
  },
  {
   "cell_type": "code",
   "execution_count": null,
   "source": [
    "re.findall(r'www[^0-9]+com', websites)"
   ],
   "outputs": [],
   "metadata": {}
  },
  {
   "cell_type": "code",
   "execution_count": null,
   "source": [
    "# ПРАКТИКА. Разделим текст по запятой и по точкам\r\n",
    "tweet_23 = 'Какое замечательное место! Обязательно вернусть сюда снова. Всем советую!!!'"
   ],
   "outputs": [],
   "metadata": {}
  },
  {
   "cell_type": "code",
   "execution_count": null,
   "source": [],
   "outputs": [],
   "metadata": {}
  },
  {
   "cell_type": "code",
   "execution_count": 97,
   "source": [
    "# ПРАКТИКА. Напишите регулярку, которая отберет только валидный пароль по критериям:\r\n",
    "# - содержит латинские символы в верхнем и нижнем регистре;\r\n",
    "# - содержит числа;\r\n",
    "# - содержит символы из *, #, $, %, !, &, .;\r\n",
    "# - от 8 до 20 символов в длину;\r\n",
    "passwords = ['Apple34!rose', 'My87hou#4$', 'abc123']\r\n",
    "\r\n",
    "for elem in passwords:\r\n",
    "    l += re.findall(r'[A-Za-z0-9\\*\\#\\$\\%\\!\\&\\.]{8,20}', elem)\r\n",
    "\r\n",
    "l\r\n"
   ],
   "outputs": [
    {
     "output_type": "execute_result",
     "data": {
      "text/plain": [
       "['Apple34!rose', 'My87hou#4$']"
      ]
     },
     "metadata": {},
     "execution_count": 97
    }
   ],
   "metadata": {}
  },
  {
   "cell_type": "code",
   "execution_count": null,
   "source": [
    "regex_pass = r''\r\n",
    "for password in passwords:\r\n",
    "    if re.match(regex_pass, password):\r\n",
    "        print('The password {} is a valid password'.format(password))\r\n",
    "    else:\r\n",
    "        print('The password {} is invalid'.format(password)) "
   ],
   "outputs": [],
   "metadata": {}
  },
  {
   "cell_type": "code",
   "execution_count": null,
   "source": [
    "# произведем замену на regex\r\n",
    "re.sub(r'регулярн[а-я]+ выражен[а-я]+', 'regex', text)"
   ],
   "outputs": [],
   "metadata": {}
  },
  {
   "cell_type": "code",
   "execution_count": null,
   "source": [],
   "outputs": [],
   "metadata": {}
  },
  {
   "cell_type": "code",
   "execution_count": 2,
   "source": [
    "# скобочные группы\r\n",
    "# выделим группы символов из посадочного талона, где:\r\n",
    "# - первые 2 символа - это авиакомпания;\r\n",
    "# - 4 следующие символа - номер рейса;\r\n",
    "# - 3 следующих символа - аэропорт отправления;\r\n",
    "# - 3 следюущих - аэропорт прибытия;\r\n",
    "# - оставшиеся - дата рейса\r\n",
    "# Все буквы всегда в верхнем регистре"
   ],
   "outputs": [],
   "metadata": {}
  },
  {
   "cell_type": "code",
   "execution_count": 100,
   "source": [
    "flight = 'Boarding pass: LA4214 AER-CDB 06NOV'"
   ],
   "outputs": [],
   "metadata": {}
  },
  {
   "cell_type": "code",
   "execution_count": 99,
   "source": [
    "flight = 'Boarding pass: LA4214 AER-CDB 06NOV'\r\n",
    "regex_flight = r'([A-Z]{2})(\\d{4})\\s([A-Z]{3})-([A-Z]{3})\\s(\\d{2}[A-Z]{3})'"
   ],
   "outputs": [],
   "metadata": {}
  },
  {
   "cell_type": "code",
   "execution_count": 102,
   "source": [
    "flight_result = re.findall(regex_flight, flight)"
   ],
   "outputs": [],
   "metadata": {}
  },
  {
   "cell_type": "code",
   "execution_count": 103,
   "source": [
    "print(flight_result)"
   ],
   "outputs": [
    {
     "output_type": "stream",
     "name": "stdout",
     "text": [
      "[('LA', '4214', 'AER', 'CDB', '06NOV')]\n"
     ]
    }
   ],
   "metadata": {}
  },
  {
   "cell_type": "code",
   "execution_count": 106,
   "source": [
    "\r\n",
    "flight_match_result = re.search(regex_flight, flight)\r\n",
    "print(flight_match_result.group(2))\r\n",
    "print(flight_match_result.group())"
   ],
   "outputs": [
    {
     "output_type": "stream",
     "name": "stdout",
     "text": [
      "4214\n",
      "LA4214 AER-CDB 06NOV\n"
     ]
    }
   ],
   "metadata": {}
  },
  {
   "cell_type": "code",
   "execution_count": 124,
   "source": [
    "# квантификатор внутри группы и после нее  – это совершенно разные вещи!\r\n",
    "numbers = 'Мои счастливые числа 777 и 666654334'\r\n",
    "re.findall(r'\\d+', numbers)"
   ],
   "outputs": [
    {
     "output_type": "execute_result",
     "data": {
      "text/plain": [
       "['777', '666654334']"
      ]
     },
     "metadata": {},
     "execution_count": 124
    }
   ],
   "metadata": {}
  },
  {
   "cell_type": "code",
   "execution_count": 125,
   "source": [
    "l = re.findall(r'(\\d)+', numbers)\r\n",
    "l\r\n",
    "\r\n",
    "# так происходит, потому что эти цифры последовательно повторяются 1 и более раз"
   ],
   "outputs": [
    {
     "output_type": "execute_result",
     "data": {
      "text/plain": [
       "['7', '4']"
      ]
     },
     "metadata": {},
     "execution_count": 125
    }
   ],
   "metadata": {}
  },
  {
   "cell_type": "code",
   "execution_count": null,
   "source": [
    "# переведем даты к другому формату при помощи групп\r\n",
    "date = '08/30/1991'\r\n",
    "re.sub(r'(\\d\\d)/(\\d\\d)/(\\d{4})', r'\\2.\\1.\\3', date)"
   ],
   "outputs": [],
   "metadata": {}
  },
  {
   "cell_type": "code",
   "execution_count": 115,
   "source": [
    "# удалим повторяющиеся числа\r\n",
    "numbers = '44444 6666 8888'\r\n",
    "re.findall(r'(\\d)+', numbers)"
   ],
   "outputs": [
    {
     "output_type": "execute_result",
     "data": {
      "text/plain": [
       "['4', '6', '8']"
      ]
     },
     "metadata": {},
     "execution_count": 115
    }
   ],
   "metadata": {}
  },
  {
   "cell_type": "code",
   "execution_count": null,
   "source": [
    "re.sub(r'(\\d)+', r'\\1', numbers)"
   ],
   "outputs": [],
   "metadata": {}
  },
  {
   "cell_type": "code",
   "execution_count": null,
   "source": [],
   "outputs": [],
   "metadata": {}
  },
  {
   "cell_type": "code",
   "execution_count": 126,
   "source": [
    "#non-captureing groups\r\n",
    "# попробуем достать оценочные слова, которые стоят перед \"фильм, кино\"\r\n",
    "review = 'Мне очень понравился этот фильм! Понравилось еще расположение кинотеатра, очень удобное!!!'\r\n",
    "regex_negative = r'(понравился|понравилось).+(?:фильм|кино).+'\r\n",
    "negative_matches = re.findall(regex_negative, review)\r\n",
    "negative_matches"
   ],
   "outputs": [
    {
     "output_type": "execute_result",
     "data": {
      "text/plain": [
       "['понравился']"
      ]
     },
     "metadata": {},
     "execution_count": 126
    }
   ],
   "metadata": {}
  },
  {
   "cell_type": "code",
   "execution_count": null,
   "source": [
    "# lookaround. Достанем имена только загруженных файлов\r\n",
    "report = 'файл 11.txt загружен, файл 22.txt загружен, файл 33.txt ошибка'\r\n",
    "find_downloaded = r'\\d+\\.txt(?=\\sзагружен)'\r\n",
    "files_error = r'\\d+\\.txt(?!\\sзагружен)'\r\n",
    "re.findall(find_downloaded, report)\r\n",
    "re.findall(files_error, report)"
   ],
   "outputs": [],
   "metadata": {}
  },
  {
   "cell_type": "code",
   "execution_count": null,
   "source": [
    "# ПРАКТИКА. Получить только рублевые цены\r\n",
    "prices = 'RUB4.44, RUB10.88, EUR0.99, RUB99.99'"
   ],
   "outputs": [],
   "metadata": {}
  },
  {
   "cell_type": "markdown",
   "source": [
    "Домашнее задание к лекции «Регулярные выражения и основы синтаксического разбора»\r\n",
    "\r\n",
    "Задание 1.\r\n",
    "Напишите функцию, которая принимает на вход строку и проверяет является ли она валидным транспортным номером. Если да, то функция должна возвращать отдельно номер и регион.\r\n",
    "\r\n",
    "Задание 2.\r\n",
    "Постарайтесь написать (в крайнем случае найти) самый полный шаблон для проверки e-mail адресов через регулярное выражение, которая проверяет e-mail адрес на валидность. Можно руководствоваться следующими минимальными требованиями:\r\n",
    "• адрес должен содержать специальный символ “@”, который отделяет имя пользователя почтовой системы от доменного имени;\r\n",
    "• адрес не должен содержать следующие символы: “пробел”, “,”, “:”, “;”, “!”, “#”, “%”, “*”, “(”, “)”, “=”, “+”, “{”, “}”, \" \" \", \" ’ \", \" / \", \" \\ \" и “|”;\r\n",
    "• адрес должен состоять только из латинских символов;\r\n",
    "• после символа “@” должна быть как минимум одна “.”;\r\n",
    "• после последней точки должно быть не менее 2-х и не более 4-х символов, причем наличие цифр не допускается;\r\n",
    "• между последней точкой и символом “@” должно быть не менее 2-х символов\r\n",
    "• слева от “@” должно быть не менее четырех символов\r\n",
    "\r\n",
    "**Задание 3. **\r\n",
    "Напишите функцию, которая будет удалять все последовательные повторы слов из заданной строки при помощи регулярных выражений.\r\n",
    "\r\n",
    "Задание 4.\r\n",
    "Напишите функцию, которая будет проверять номер сотового телефона на валидность, если он валиден, то переводить его в формат:\r\n",
    "+7(xxx)-xxx-xx-xx\r\n",
    "\r\n",
    "Постарайтесь предусмотреть как можно больше адекватных форматов изначального ввода номера. Примеры валидных форматов:\r\n",
    "\r\n",
    "• +7 955 555-55-55;\r\n",
    "• 9555555555;\r\n",
    "• 8(955)555-55-55;\r\n",
    "• +7 955 555 55 55;\r\n",
    "• 7(955) 555-55-55;\r\n",
    "• +7 955+555+55+55."
   ],
   "metadata": {}
  }
 ],
 "metadata": {
  "kernelspec": {
   "name": "python3",
   "display_name": "Python 3.8.8 64-bit ('base': conda)"
  },
  "language_info": {
   "codemirror_mode": {
    "name": "ipython",
    "version": 3
   },
   "file_extension": ".py",
   "mimetype": "text/x-python",
   "name": "python",
   "nbconvert_exporter": "python",
   "pygments_lexer": "ipython3",
   "version": "3.8.8"
  },
  "interpreter": {
   "hash": "b3ba2566441a7c06988d0923437866b63cedc61552a5af99d1f4fb67d367b25f"
  }
 },
 "nbformat": 4,
 "nbformat_minor": 2
}