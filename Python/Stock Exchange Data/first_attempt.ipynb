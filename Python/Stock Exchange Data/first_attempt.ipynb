{
 "cells": [
  {
   "cell_type": "markdown",
   "source": [],
   "metadata": {}
  },
  {
   "cell_type": "code",
   "execution_count": 26,
   "source": [
    "import pandas as pd\r\n",
    "import matplotlib as plt\r\n",
    "import re\r\n",
    "a = pd.read_csv('indexData.csv')\r\n",
    "\r\n",
    "a.head(20)\r\n",
    "\r\n",
    "b = a[['Date', 'High', 'Low']]\r\n",
    "\r\n",
    "def func1(x):\r\n",
    "    if '01-20' not in x:\r\n",
    "        x = 0\r\n",
    "b.Date.apply(func1).sort_values()"
   ],
   "outputs": [
    {
     "output_type": "execute_result",
     "data": {
      "text/plain": [
       "0         None\n",
       "1         None\n",
       "2         None\n",
       "3         None\n",
       "4         None\n",
       "          ... \n",
       "112452    None\n",
       "112453    None\n",
       "112454    None\n",
       "112455    None\n",
       "112456    None\n",
       "Name: Date, Length: 112457, dtype: object"
      ]
     },
     "metadata": {},
     "execution_count": 26
    }
   ],
   "metadata": {}
  }
 ],
 "metadata": {
  "orig_nbformat": 4,
  "language_info": {
   "name": "python",
   "version": "3.8.8"
  },
  "kernelspec": {
   "name": "python3",
   "display_name": "Python 3.8.8 64-bit ('base': conda)"
  },
  "interpreter": {
   "hash": "b3ba2566441a7c06988d0923437866b63cedc61552a5af99d1f4fb67d367b25f"
  }
 },
 "nbformat": 4,
 "nbformat_minor": 2
}