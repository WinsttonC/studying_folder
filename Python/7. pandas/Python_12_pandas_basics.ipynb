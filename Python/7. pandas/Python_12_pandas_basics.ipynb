{
 "cells": [
  {
   "cell_type": "markdown",
   "source": [
    "# Основы pandas"
   ],
   "metadata": {}
  },
  {
   "cell_type": "code",
   "execution_count": 1,
   "source": [
    "import pandas as pd"
   ],
   "outputs": [],
   "metadata": {}
  },
  {
   "cell_type": "markdown",
   "source": [
    "Пример забора данных с сайтов"
   ],
   "metadata": {}
  },
  {
   "cell_type": "code",
   "execution_count": null,
   "source": [
    "pd.read_html('http://www.cbr.ru')[2]"
   ],
   "outputs": [],
   "metadata": {
    "scrolled": true
   }
  },
  {
   "cell_type": "code",
   "execution_count": null,
   "source": [
    "page_url = 'https://www.finanz.ru/valyuty/usd-rub'\r\n",
    "\r\n",
    "# Импортируем нужную нам страницу в df\r\n",
    "# attrs = {'class': 'news_table'} ---> указываем какой именно блок нам нужен\r\n",
    "# encoding='utf-8' ---> указываем кодировку страниц для корректного отображения кириллицы\r\n",
    "df = pd.read_html(page_url, attrs = {'class': 'news_table'}, encoding='utf-8')"
   ],
   "outputs": [],
   "metadata": {}
  },
  {
   "cell_type": "code",
   "execution_count": null,
   "source": [
    "df[:5]"
   ],
   "outputs": [],
   "metadata": {}
  },
  {
   "cell_type": "markdown",
   "source": [
    "Импорт данных из файла"
   ],
   "metadata": {}
  },
  {
   "cell_type": "code",
   "execution_count": null,
   "source": [
    "data = pd.read_csv('power.csv')\r\n",
    "data.head()"
   ],
   "outputs": [],
   "metadata": {
    "scrolled": false
   }
  },
  {
   "cell_type": "code",
   "execution_count": null,
   "source": [
    "data.tail()"
   ],
   "outputs": [],
   "metadata": {}
  },
  {
   "cell_type": "code",
   "execution_count": null,
   "source": [
    "type(data)"
   ],
   "outputs": [],
   "metadata": {
    "scrolled": true
   }
  },
  {
   "cell_type": "code",
   "execution_count": null,
   "source": [
    "# если надо указать свои заголовки и разделитель\r\n",
    "# data = pd.read_csv('power.csv', names = ['страна', 'год', 'количество', 'категория'], sep = '\\t', header=0)\r\n",
    "# data.head()"
   ],
   "outputs": [],
   "metadata": {}
  },
  {
   "cell_type": "code",
   "execution_count": null,
   "source": [
    "# количество строк в датафрейме\r\n",
    "\r\n",
    "len(data)"
   ],
   "outputs": [],
   "metadata": {}
  },
  {
   "cell_type": "code",
   "execution_count": null,
   "source": [
    "# или так\r\n",
    "\r\n",
    "data.shape"
   ],
   "outputs": [],
   "metadata": {}
  },
  {
   "cell_type": "markdown",
   "source": [
    "Простые вычисления для нового столбца"
   ],
   "metadata": {}
  },
  {
   "cell_type": "code",
   "execution_count": null,
   "source": [
    "data['year_plus_one'] = data['year'] + 1\r\n",
    "data.head()"
   ],
   "outputs": [],
   "metadata": {
    "scrolled": true
   }
  },
  {
   "cell_type": "markdown",
   "source": [
    "### Упражнение\n",
    "Вам дана статистика продаж в файле transactions.csv. Вам необходимо загрузить этот файл в датафрейм и посчитать его размеры."
   ],
   "metadata": {}
  },
  {
   "cell_type": "code",
   "execution_count": 6,
   "source": [
    "data01 = pd.read_csv('transactions.csv')\r\n",
    "print(data01.shape)"
   ],
   "outputs": [
    {
     "output_type": "stream",
     "name": "stdout",
     "text": [
      "(60, 8)\n"
     ]
    }
   ],
   "metadata": {}
  },
  {
   "cell_type": "code",
   "execution_count": null,
   "source": [],
   "outputs": [],
   "metadata": {}
  },
  {
   "cell_type": "code",
   "execution_count": null,
   "source": [],
   "outputs": [],
   "metadata": {}
  },
  {
   "cell_type": "markdown",
   "source": [
    "### Основные сведения о датафрейме"
   ],
   "metadata": {}
  },
  {
   "cell_type": "code",
   "execution_count": null,
   "source": [
    "data.info()"
   ],
   "outputs": [],
   "metadata": {}
  },
  {
   "cell_type": "code",
   "execution_count": null,
   "source": [
    "# немного статистики\r\n",
    "\r\n",
    "data.describe()"
   ],
   "outputs": [],
   "metadata": {
    "scrolled": false
   }
  },
  {
   "cell_type": "markdown",
   "source": [
    "### Отдельный столбец (тип Series)"
   ],
   "metadata": {}
  },
  {
   "cell_type": "code",
   "execution_count": null,
   "source": [
    "data['year'].head()"
   ],
   "outputs": [],
   "metadata": {}
  },
  {
   "cell_type": "code",
   "execution_count": null,
   "source": [
    "# или так\r\n",
    "\r\n",
    "data.year.head()"
   ],
   "outputs": [],
   "metadata": {}
  },
  {
   "cell_type": "code",
   "execution_count": null,
   "source": [
    "type(data['year'])"
   ],
   "outputs": [],
   "metadata": {
    "scrolled": true
   }
  },
  {
   "cell_type": "code",
   "execution_count": null,
   "source": [
    "data.head()"
   ],
   "outputs": [],
   "metadata": {}
  },
  {
   "cell_type": "code",
   "execution_count": null,
   "source": [
    "# уникальные значения в столбце\r\n",
    "\r\n",
    "data['category'].unique()"
   ],
   "outputs": [],
   "metadata": {}
  },
  {
   "cell_type": "code",
   "execution_count": null,
   "source": [
    "len(data['category'].unique())"
   ],
   "outputs": [],
   "metadata": {}
  },
  {
   "cell_type": "code",
   "execution_count": null,
   "source": [
    "data['category'].head()"
   ],
   "outputs": [],
   "metadata": {}
  },
  {
   "cell_type": "code",
   "execution_count": null,
   "source": [
    "# распределение количества строк по значениям столбца\r\n",
    "\r\n",
    "data['category'].value_counts().head(10)"
   ],
   "outputs": [],
   "metadata": {}
  },
  {
   "cell_type": "code",
   "execution_count": null,
   "source": [
    "data['category'].value_counts(normalize=True).head()"
   ],
   "outputs": [],
   "metadata": {}
  },
  {
   "cell_type": "markdown",
   "source": [
    "### Упражнение\n",
    "Используем файл transactions.csv. Определите какой товар (столбец Product) упоминается в файле чаще всего?"
   ],
   "metadata": {}
  },
  {
   "cell_type": "code",
   "execution_count": 12,
   "source": [
    "data02 = pd.read_csv('transactions.csv')\r\n",
    "print(data02.head())\r\n",
    "print(type(data02['Product'].value_counts()))"
   ],
   "outputs": [
    {
     "output_type": "stream",
     "name": "stdout",
     "text": [
      "   Year  Month    ID Product  Amount  Price  Total  Cost\n",
      "0  2017      1  t001      A1       7   2904  20328  1200\n",
      "1  2017      1  t002      A2       2   1896   3792  1100\n",
      "2  2017      2  t003      A1       5   2904  14520  1200\n",
      "3  2017      2  t004      A4       1   8618   8618  4200\n",
      "4  2017      2  t005      A5       3   5175  15525   500\n",
      "<class 'pandas.core.series.Series'>\n"
     ]
    }
   ],
   "metadata": {}
  },
  {
   "cell_type": "code",
   "execution_count": null,
   "source": [],
   "outputs": [],
   "metadata": {}
  },
  {
   "cell_type": "code",
   "execution_count": null,
   "source": [],
   "outputs": [],
   "metadata": {}
  },
  {
   "cell_type": "markdown",
   "source": [
    "# Фильтры"
   ],
   "metadata": {}
  },
  {
   "cell_type": "code",
   "execution_count": null,
   "source": [
    "data = pd.read_csv('power.csv')\r\n",
    "data.head()"
   ],
   "outputs": [],
   "metadata": {}
  },
  {
   "cell_type": "code",
   "execution_count": null,
   "source": [
    "# выбрать несколько столбцов\r\n",
    "\r\n",
    "country_stats = data.filter(items = ['country', 'quantity'])\r\n",
    "country_stats.head()"
   ],
   "outputs": [],
   "metadata": {}
  },
  {
   "cell_type": "code",
   "execution_count": null,
   "source": [
    "# или так\r\n",
    "\r\n",
    "data[['country', 'quantity']].head()"
   ],
   "outputs": [],
   "metadata": {}
  },
  {
   "cell_type": "markdown",
   "source": [
    "### Отфильтруем строки с потреблением выше среднего"
   ],
   "metadata": {}
  },
  {
   "cell_type": "code",
   "execution_count": null,
   "source": [
    "average_level = data['quantity'].mean()\r\n",
    "average_level"
   ],
   "outputs": [],
   "metadata": {}
  },
  {
   "cell_type": "code",
   "execution_count": null,
   "source": [
    "'quantity > {}'.format(average_level)"
   ],
   "outputs": [],
   "metadata": {}
  },
  {
   "cell_type": "code",
   "execution_count": null,
   "source": [
    "# строки с потреблением больше среднего\r\n",
    "\r\n",
    "average_level = data['quantity'].mean()\r\n",
    "country_stats.query('quantity > {}'.format(average_level)).head()"
   ],
   "outputs": [],
   "metadata": {}
  },
  {
   "cell_type": "code",
   "execution_count": null,
   "source": [
    "# самый популярный способ\r\n",
    "\r\n",
    "data[ data.quantity > average_level ].head()"
   ],
   "outputs": [],
   "metadata": {
    "scrolled": true
   }
  },
  {
   "cell_type": "markdown",
   "source": [
    "### Как определить используемый вариант названия страны?"
   ],
   "metadata": {}
  },
  {
   "cell_type": "code",
   "execution_count": null,
   "source": [
    "data['country'].unique()"
   ],
   "outputs": [],
   "metadata": {}
  },
  {
   "cell_type": "code",
   "execution_count": null,
   "source": [
    "# найдем как называется Россия и Беларусь в этом датафрейме\r\n",
    "# фильтр на подстроку - смотрим все страны, содержащие в названии 'us'\r\n",
    "\r\n",
    "data[ data['country'].str.contains('us', case=False) ]['country'].unique()"
   ],
   "outputs": [],
   "metadata": {}
  },
  {
   "cell_type": "code",
   "execution_count": null,
   "source": [
    "# фильтр на несколько условий сразу\r\n",
    "# | - условие ИЛИ\r\n",
    "# & AND\r\n",
    "# () | (() | () & ())\r\n",
    "filtered_countries = data[ (data['country']=='Russian Federation') | (data['country']=='Belarus') ]\r\n",
    "\r\n",
    "filtered_countries.head()"
   ],
   "outputs": [],
   "metadata": {}
  },
  {
   "cell_type": "code",
   "execution_count": null,
   "source": [
    "filtered_countries['country'].unique()"
   ],
   "outputs": [],
   "metadata": {}
  },
  {
   "cell_type": "code",
   "execution_count": null,
   "source": [
    "# фильтры на номер строки\r\n",
    "\r\n",
    "data.loc[1000:1005]"
   ],
   "outputs": [],
   "metadata": {}
  },
  {
   "cell_type": "markdown",
   "source": [
    "# Сортировка"
   ],
   "metadata": {}
  },
  {
   "cell_type": "code",
   "execution_count": null,
   "source": [
    "# Сортировка по столбцу\r\n",
    "\r\n",
    "data.sort_values(by='quantity').head()"
   ],
   "outputs": [],
   "metadata": {}
  },
  {
   "cell_type": "code",
   "execution_count": null,
   "source": [
    "# сортировка по убыванию\r\n",
    "\r\n",
    "data.sort_values('quantity', ascending=False).head()"
   ],
   "outputs": [],
   "metadata": {}
  },
  {
   "cell_type": "code",
   "execution_count": null,
   "source": [
    "# сортировка по нескольким столбцам\r\n",
    "\r\n",
    "data.sort_values(by=['year', 'country', 'quantity'], ascending=[False, True, False]).head(50)"
   ],
   "outputs": [],
   "metadata": {}
  },
  {
   "cell_type": "markdown",
   "source": [
    "### Параметр inplace"
   ],
   "metadata": {}
  },
  {
   "cell_type": "code",
   "execution_count": 40,
   "source": [
    "ip = pd.read_csv('power.csv')\r\n",
    "\r\n",
    "print(ip.groupby('country').head())"
   ],
   "outputs": [
    {
     "output_type": "stream",
     "name": "stdout",
     "text": [
      "                    country  year  quantity  category\n",
      "0                   Austria  1996       5.0         1\n",
      "1                   Austria  1995      17.0         1\n",
      "2                   Belgium  2014       0.0         1\n",
      "3                   Belgium  2013       0.0         1\n",
      "4                   Belgium  2012      35.0         1\n",
      "...                     ...   ...       ...       ...\n",
      "399113  Antarctic Fisheries  2007       3.0        27\n",
      "399114  Antarctic Fisheries  2006       2.0        27\n",
      "399115  Antarctic Fisheries  2005       2.0        27\n",
      "399116  Antarctic Fisheries  2004       2.0        27\n",
      "399117  Antarctic Fisheries  2003       1.0        27\n",
      "\n",
      "[1215 rows x 4 columns]\n"
     ]
    }
   ],
   "metadata": {}
  },
  {
   "cell_type": "code",
   "execution_count": null,
   "source": [
    "data.sort_values('country', ascending=True, inplace=rewrite)"
   ],
   "outputs": [],
   "metadata": {}
  },
  {
   "cell_type": "code",
   "execution_count": null,
   "source": [
    "data = data.sort_values(by=['country', 'year', 'quantity'], ascending=[True, True, False])\r\n",
    "\r\n",
    "# чтобы сократить это выражение используем inplace:\r\n",
    "data.sort_values(by=['country', 'year', 'quantity'], ascending=[True, True, False], inplace=True)"
   ],
   "outputs": [],
   "metadata": {}
  },
  {
   "cell_type": "markdown",
   "source": [
    "### Упражнение\n",
    "Используем transactions.csv.\n",
    "\n",
    "Для какой транзакции (столбец ID) были наибольшие расходы (столбец Cost) в категории \"_8\" (столбец Product)? "
   ],
   "metadata": {}
  },
  {
   "cell_type": "code",
   "execution_count": 35,
   "source": [
    "pewdata = pd.read_csv('transactions.csv')\r\n",
    "\r\n",
    "filtered_ = pewdata[ (pewdata['Product'] == '_8')]\r\n",
    "print(filtered_.sort_values('Cost', ascending = False))"
   ],
   "outputs": [
    {
     "output_type": "stream",
     "name": "stdout",
     "text": [
      "    Year  Month    ID Product  Amount  Price  Total  Cost\n",
      "54  2017     12  t055      _8       2   3760   7520  2400\n",
      "12  2017      4  t013      _8       3   3760  11280  1200\n",
      "8   2017      4  t009      _8       3   3760  11280  1000\n",
      "26  2017      6  t027      _8       3   3760  11280   800\n",
      "41  2017     10  t042      _8       3   3760  11280   800\n",
      "58  2017     12  t059      _8       3   3760  11280   800\n",
      "37  2017      9  t038      _8       1   3760   3760   700\n",
      "22  2017      6  t023      _8      10   3760  37600   200\n"
     ]
    }
   ],
   "metadata": {}
  },
  {
   "cell_type": "markdown",
   "source": [
    "# Домашние задания\r\n",
    "Задание 1\r\n",
    "Скачайте с сайта https://grouplens.org/datasets/movielens/ датасет любого размера. Определите какому фильму было выставлено больше всего оценок 5.0.\r\n",
    "\r\n",
    "Задание 2\r\n",
    "По данным файла power.csv посчитайте суммарное потребление стран Прибалтики (Латвия, Литва и Эстония) категорий 4, 12 и 21 за период с 2005 по 2010 года. Не учитывайте в расчетах отрицательные значения quantity.\r\n",
    "\r\n",
    "Задание 3\r\n",
    "Выберите страницу любого сайта с табличными данными. Импортируйте таблицы в pandas dataframe.\r\n",
    "Примеры страниц (необязательно брать именно эти):\r\n",
    "https://fortrader.org/quotes\r\n",
    "https://www.finanz.ru/valyuty/v-realnom-vremeni"
   ],
   "metadata": {}
  },
  {
   "cell_type": "code",
   "execution_count": 76,
   "source": [
    "site = pd.read_html('https://www.finanz.ru/valyuty/v-realnom-vremeni', attrs = {\"class\" :\"quote_list\"}, encoding='UTF-8')\r\n",
    "print(site[0].head())\r\n",
    "\r\n",
    "site[site.[]]"
   ],
   "outputs": [
    {
     "output_type": "stream",
     "name": "stdout",
     "text": [
      "   Unnamed: 0    Рубль Предложение Спрос Предыдущее закрытие        %  \\\n",
      "0         NaN  GBP/RUB     1017354     -             1017500  -0,01 %   \n",
      "1         NaN  EUR/RUB      868105     -              870200  -0,24 %   \n",
      "2         NaN  USD/RUB      731488     -              731912  -0,06 %   \n",
      "3         NaN  JPY/RUB       06669     -               06669   0,00 %   \n",
      "4         NaN  CNY/RUB      113207     -              113207   0,00 %   \n",
      "\n",
      "  Абсолютное значение     Время  \n",
      "0              -00146  06:11:00  \n",
      "1              -02095  00:32:00  \n",
      "2              -00424  00:01:00  \n",
      "3               00000  06:11:00  \n",
      "4               00000  06:11:00  \n"
     ]
    }
   ],
   "metadata": {}
  },
  {
   "cell_type": "code",
   "execution_count": 69,
   "source": [
    "data = pd.read_csv('power.csv')\r\n",
    "\r\n",
    "#сначала фильтруем по странам и категориям\r\n",
    "filtered_countries = data[((data['country'] == 'Latvia') | (data['country']=='Lithuania') | (data['country']=='Estonia'))&((data['category'] == 4) | (data['category'] == 12)| (data['category'] == 21))]\r\n",
    "\r\n",
    "#затем оставляем только нужные годы и положительные значения\r\n",
    "filtered_countries = filtered_countries[(filtered_countries['year'] > 2004) & (filtered_countries['year'] < 2011) & filtered_countries['quantity'] > 0]\r\n",
    "\r\n",
    "#старый знакомый груп-бай по количеству энергии, единичка позволяет обойтись без разбивки\r\n",
    "print(filtered_countries.groupby('country')['quantity'].sum())\r\n",
    "#filtered_countries = data[ (data['country']=='Russian Federation') | (data['country']=='Belarus') ]"
   ],
   "outputs": [
    {
     "output_type": "stream",
     "name": "stdout",
     "text": [
      "country\n",
      "Estonia       63440.0\n",
      "Latvia        54844.0\n",
      "Lithuania    122197.0\n",
      "Name: quantity, dtype: float64\n"
     ]
    }
   ],
   "metadata": {}
  },
  {
   "cell_type": "code",
   "execution_count": 52,
   "source": [
    "books = pd.read_csv('books_data/Bx-Books.csv', sep = ';', error_bad_lines=False)\r\n",
    "books.head()\r\n",
    "book_rates = pd.read_csv('books_data/Bx-Book-Ratings.csv', sep = ';', error_bad_lines=False)\r\n",
    "book_users = pd.read_csv('books_data/Bx-Users.csv', sep = ';', error_bad_lines=False)\r\n",
    "print(book_users.merge(book_rates, on = 'User-ID').head)\r\n",
    "\r\n",
    "#book_users.merge(books, on = 'ISBN', how = 'left')\r\n",
    "\r\n",
    "print(book_users.shape)\r\n",
    "\r\n",
    "#book_users.head()"
   ],
   "outputs": [
    {
     "output_type": "stream",
     "name": "stderr",
     "text": [
      "b'Skipping line 6452: expected 8 fields, saw 9\\nSkipping line 43667: expected 8 fields, saw 10\\nSkipping line 51751: expected 8 fields, saw 9\\n'\n",
      "b'Skipping line 92038: expected 8 fields, saw 9\\nSkipping line 104319: expected 8 fields, saw 9\\nSkipping line 121768: expected 8 fields, saw 9\\n'\n",
      "b'Skipping line 144058: expected 8 fields, saw 9\\nSkipping line 150789: expected 8 fields, saw 9\\nSkipping line 157128: expected 8 fields, saw 9\\nSkipping line 180189: expected 8 fields, saw 9\\nSkipping line 185738: expected 8 fields, saw 9\\n'\n",
      "b'Skipping line 209388: expected 8 fields, saw 9\\nSkipping line 220626: expected 8 fields, saw 9\\nSkipping line 227933: expected 8 fields, saw 11\\nSkipping line 228957: expected 8 fields, saw 10\\nSkipping line 245933: expected 8 fields, saw 9\\nSkipping line 251296: expected 8 fields, saw 9\\nSkipping line 259941: expected 8 fields, saw 9\\nSkipping line 261529: expected 8 fields, saw 9\\n'\n",
      "C:\\ProgramData\\Anaconda3\\lib\\site-packages\\IPython\\core\\interactiveshell.py:3165: DtypeWarning: Columns (3) have mixed types.Specify dtype option on import or set low_memory=False.\n",
      "  has_raised = await self.run_ast_nodes(code_ast.body, cell_name,\n"
     ]
    },
    {
     "output_type": "stream",
     "name": "stdout",
     "text": [
      "<bound method NDFrame.head of          User-ID                   Location   Age        ISBN  Book-Rating\n",
      "0              2  stockton, california, usa  18.0  0195153448            0\n",
      "1              7        washington, dc, usa   NaN   034542252            0\n",
      "2              8   timmins, ontario, canada   NaN  0002005018            5\n",
      "3              8   timmins, ontario, canada   NaN  0060973129            0\n",
      "4              8   timmins, ontario, canada   NaN  0374157065            0\n",
      "...          ...                        ...   ...         ...          ...\n",
      "1149775   278854      portland, oregon, usa   NaN  0425163393            7\n",
      "1149776   278854      portland, oregon, usa   NaN  0515087122            0\n",
      "1149777   278854      portland, oregon, usa   NaN  0553275739            6\n",
      "1149778   278854      portland, oregon, usa   NaN  0553578596            0\n",
      "1149779   278854      portland, oregon, usa   NaN  0553579606            8\n",
      "\n",
      "[1149780 rows x 5 columns]>\n",
      "(278858, 3)\n"
     ]
    }
   ],
   "metadata": {}
  },
  {
   "cell_type": "code",
   "execution_count": null,
   "source": [],
   "outputs": [],
   "metadata": {}
  }
 ],
 "metadata": {
  "kernelspec": {
   "name": "python3",
   "display_name": "Python 3.8.8 64-bit ('base': conda)"
  },
  "language_info": {
   "codemirror_mode": {
    "name": "ipython",
    "version": 3
   },
   "file_extension": ".py",
   "mimetype": "text/x-python",
   "name": "python",
   "nbconvert_exporter": "python",
   "pygments_lexer": "ipython3",
   "version": "3.8.8"
  },
  "interpreter": {
   "hash": "b3ba2566441a7c06988d0923437866b63cedc61552a5af99d1f4fb67d367b25f"
  }
 },
 "nbformat": 4,
 "nbformat_minor": 2
}